{
 "cells": [
  {
   "cell_type": "code",
   "execution_count": 1,
   "metadata": {},
   "outputs": [],
   "source": [
    "import pandas as pd\n",
    "from bs4 import BeautifulSoup\n",
    "import requests\n",
    "import time"
   ]
  },
  {
   "cell_type": "code",
   "execution_count": 2,
   "metadata": {},
   "outputs": [],
   "source": [
    "url = 'https://www.blocket.se/bilar/sok?filter=%7B%22key%22%3A%22make%22%2C%22values%22%3A%5B%22Kia%22%5D%7D&filter=%7B%22key%22%3A%22models%22%2C%22values%22%3A%5B%22Cee%27d%22%5D%7D&page='"
   ]
  },
  {
   "cell_type": "code",
   "execution_count": 3,
   "metadata": {},
   "outputs": [
    {
     "name": "stdout",
     "output_type": "stream",
     "text": [
      "https://www.blocket.se/bilar/sok?filter=%7B%22key%22%3A%22make%22%2C%22values%22%3A%5B%22Kia%22%5D%7D&filter=%7B%22key%22%3A%22models%22%2C%22values%22%3A%5B%22Cee%27d%22%5D%7D&page=1\n",
      "Found 40 ads on page 1\n",
      "https://www.blocket.se/bilar/sok?filter=%7B%22key%22%3A%22make%22%2C%22values%22%3A%5B%22Kia%22%5D%7D&filter=%7B%22key%22%3A%22models%22%2C%22values%22%3A%5B%22Cee%27d%22%5D%7D&page=2\n",
      "Found 0 ads on page 2\n"
     ]
    }
   ],
   "source": [
    "for page in range(1, 10):\n",
    "    current_url = url + str(page)\n",
    "    print(current_url)\n",
    "    req = requests.get(current_url)\n",
    "    soup = BeautifulSoup(req.text, 'html.parser')\n",
    "    ads = soup.find_all('div', attrs = {'class': 'flex flex-col justify-between flex-1 gap-4'})\n",
    "    print(f\"Found {len(ads)} ads on page {page}\")\n",
    "    if not ads:\n",
    "        break\n",
    "    time.sleep(1)"
   ]
  }
 ],
 "metadata": {
  "kernelspec": {
   "display_name": "venv",
   "language": "python",
   "name": "python3"
  },
  "language_info": {
   "codemirror_mode": {
    "name": "ipython",
    "version": 3
   },
   "file_extension": ".py",
   "mimetype": "text/x-python",
   "name": "python",
   "nbconvert_exporter": "python",
   "pygments_lexer": "ipython3",
   "version": "3.11.9"
  }
 },
 "nbformat": 4,
 "nbformat_minor": 2
}
